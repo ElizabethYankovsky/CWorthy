{
 "cells": [
  {
   "cell_type": "code",
   "execution_count": 1,
   "id": "4e2aecda-3342-4a72-b4e7-8d52a1741dc2",
   "metadata": {
    "tags": []
   },
   "outputs": [],
   "source": [
    "%load_ext autoreload\n",
    "%autoreload 2"
   ]
  },
  {
   "cell_type": "code",
   "execution_count": 2,
   "id": "829f0188-d4e8-4de5-8b4f-c27dd8f13a14",
   "metadata": {
    "tags": []
   },
   "outputs": [],
   "source": [
    "import os\n",
    "import socket\n",
    "from glob import glob\n",
    "\n",
    "import oae_smyle\n",
    "import config\n",
    "import xarray as xr\n",
    "\n",
    "this_notebook = 'run-cesm.ipynb'\n",
    "assert 'cheyenne' in socket.gethostname(), (\n",
    "    'this notebook must be run on cheyenne login node'\n",
    ")\n"
   ]
  },
  {
   "cell_type": "markdown",
   "id": "16d44357-c1a4-412a-ab25-02c684e54e61",
   "metadata": {},
   "source": [
    "# Run CESM \n",
    "1. Change **project number** in config.py"
   ]
  },
  {
   "cell_type": "code",
   "execution_count": null,
   "id": "5aaef2c0-8c5f-490d-aac6-a428407fc2f8",
   "metadata": {},
   "outputs": [],
   "source": []
  },
  {
   "cell_type": "code",
   "execution_count": 3,
   "id": "a38a6a88-ff81-493b-8489-2e42dd46a8da",
   "metadata": {
    "tags": []
   },
   "outputs": [
    {
     "data": {
      "text/plain": [
       "2"
      ]
     },
     "execution_count": 3,
     "metadata": {},
     "output_type": "execute_result"
    }
   ],
   "source": [
    "# forcing files\n",
    "alk_forcing_spec = 'North_Pacific_basin'\n",
    "year_spec        = '5year'\n",
    "forcing_files = sorted(\n",
    "    glob(f'/glade/scratch/eyankovsky/oae-dor-global-efficiency/data/{alk_forcing_spec}_{year_spec}/alk-forcing-{alk_forcing_spec}.*.nc')\n",
    ")\n",
    "# forcing_files = sorted(\n",
    "#     glob(f'/glade/scratch/eyankovsky/oae-dor-global-efficiency/data/Labrador_ensemble/alk-forcing-{alk_forcing_spec}.*.nc')\n",
    "# )\n",
    "run_only_index_list = [i for i in range(len(forcing_files))]\n",
    "    \n",
    "len(forcing_files)\n",
    "\n",
    "#forcing_files"
   ]
  },
  {
   "cell_type": "code",
   "execution_count": 4,
   "id": "2171dd14-98b7-419e-89f0-37daf486f20b",
   "metadata": {
    "tags": []
   },
   "outputs": [],
   "source": [
    "ds = xr.open_dataset(forcing_files[0])"
   ]
  },
  {
   "cell_type": "code",
   "execution_count": 5,
   "id": "b7e2b320-00e5-4b73-a6f7-61e1f2332fe6",
   "metadata": {
    "tags": []
   },
   "outputs": [
    {
     "data": {
      "text/plain": [
       "[<matplotlib.lines.Line2D at 0x7f153874bf10>]"
      ]
     },
     "execution_count": 5,
     "metadata": {},
     "output_type": "execute_result"
    },
    {
     "data": {
      "image/png": "[encoded data removed]",
      "text/plain": [
       "<Figure size 640x480 with 1 Axes>"
      ]
     },
     "metadata": {},
     "output_type": "display_data"
    }
   ],
   "source": [
    "ds.alk_forcing.sum(['X', 'Y'])[0:].plot(marker='o')"
   ]
  },
  {
   "cell_type": "code",
   "execution_count": 6,
   "id": "9e87ca34-8a43-40f0-8c97-b7d96fc7206a",
   "metadata": {
    "tags": []
   },
   "outputs": [
    {
     "name": "stdout",
     "output_type": "stream",
     "text": [
      " Successfully created new case smyle-fosi.North_Pacific_basin.alk-forcing-North_Pacific_basin.006-5year from clone case g.e22.GOMIPECOIAF_JRA-1p4-2018.TL319_g17.SMYLE.005 \n",
      "Setting Environment OMP_STACKSIZE=1024M\n",
      "Setting Environment TMPDIR=/glade/scratch/bachman\n",
      "Setting Environment MPI_TYPE_DEPTH=16\n",
      "Setting Environment MPI_IB_CONGESTED=1\n",
      "Setting resource.RLIMIT_STACK to -1 from (307200000, -1)\n"
     ]
    },
    {
     "name": "stderr",
     "output_type": "stream",
     "text": [
      "/glade/work/bachman/oae-dor-global-efficiency/cesm-cases/smyle-fosi.North_Pacific_basin.alk-forcing-North_Pacific_basin.006-5year/env_mach_specific.xml already exists, delete to replace\n",
      "/glade/work/bachman/oae-dor-global-efficiency/cesm-cases/smyle-fosi.North_Pacific_basin.alk-forcing-North_Pacific_basin.006-5year/env_mach_specific.xml already exists, delete to replace\n"
     ]
    },
    {
     "name": "stdout",
     "output_type": "stream",
     "text": [
      "job is case.run USER_REQUESTED_WALLTIME None USER_REQUESTED_QUEUE regular WALLTIME_FORMAT %H:%M:%S\n",
      "Creating batch scripts\n",
      "Writing case.run script from input template /glade/work/klindsay/cesm2_tags/cesm2.2.0/cime/config/cesm/machines/template.case.run\n",
      "Creating file .case.run\n",
      "Writing case.st_archive script from input template /glade/work/klindsay/cesm2_tags/cesm2.2.0/cime/config/cesm/machines/template.st_archive\n",
      "Creating file case.st_archive\n",
      "If an old case build already exists, might want to run 'case.build --clean' before building\n",
      "You can now run './preview_run' to get more info on how your case will be run\n"
     ]
    },
    {
     "name": "stderr",
     "output_type": "stream",
     "text": [
      "INFO: Running consistency check for /glade/u/home/eyankovsky/CWorthy/SourceMods-OAE/src.pop.curtail-output/diagnostics_latest.yaml\n",
      "INFO: Writing /glade/work/bachman/oae-dor-global-efficiency/cesm-cases/smyle-fosi.North_Pacific_basin.alk-forcing-North_Pacific_basin.006-5year/SourceMods/src.pop/diagnostics_latest.json\n"
     ]
    },
    {
     "name": "stdout",
     "output_type": "stream",
     "text": [
      "Setting Environment OMP_STACKSIZE=1024M\n",
      "Setting Environment TMPDIR=/glade/scratch/bachman\n",
      "Setting Environment MPI_TYPE_DEPTH=16\n",
      "Setting Environment MPI_IB_CONGESTED=1\n",
      "Setting resource.RLIMIT_STACK to -1 from (307200000, -1)\n",
      "Machine/Decomp/Pes configuration has already been done ...skipping\n",
      "If an old case build already exists, might want to run 'case.build --clean' before building\n",
      "You can now run './preview_run' to get more info on how your case will be run\n",
      "checkpoint 1\n",
      "/glade/work/bachman/oae-dor-global-efficiency/cesm-cases/smyle-fosi.North_Pacific_basin.alk-forcing-North_Pacific_basin.006-5year\n",
      "Setting Environment OMP_STACKSIZE=1024M\n",
      "Setting Environment TMPDIR=/glade/scratch/bachman\n",
      "Setting Environment MPI_TYPE_DEPTH=16\n",
      "Setting Environment MPI_IB_CONGESTED=1\n",
      "Setting resource.RLIMIT_STACK to -1 from (307200000, -1)\n",
      "GET_REFCASE is false, the user is expected to stage the refcase to the run directory.\n",
      "Creating component namelists\n",
      "  2023-12-29 21:02:54 atm \n",
      "   Calling /glade/work/klindsay/cesm2_tags/cesm2.2.0/cime/src/components/data_comps_mct/datm/cime_config/buildnml\n",
      "  2023-12-29 21:02:54 lnd \n",
      "   Calling /glade/work/klindsay/cesm2_tags/cesm2.2.0/cime/src/components/stub_comps_mct/slnd/cime_config/buildnml\n",
      "  2023-12-29 21:02:54 ice \n",
      "   Calling /glade/work/klindsay/cesm2_tags/cesm2.2.0/cime/../components/cice//cime_config/buildnml\n",
      "     ...buildnml calling cice buildcpp to set build time options\n",
      "  2023-12-29 21:02:54 ocn \n",
      "   Calling /glade/work/klindsay/cesm2_tags/cesm2.2.0/cime/../components/pop//cime_config/buildnml\n",
      "     ... buildnml: calling pop buildcpp to set build time options\n",
      "  2023-12-29 21:02:56 rof \n",
      "   Calling /glade/work/klindsay/cesm2_tags/cesm2.2.0/cime/src/components/data_comps_mct/drof/cime_config/buildnml\n",
      "  2023-12-29 21:02:56 glc \n",
      "   Calling /glade/work/klindsay/cesm2_tags/cesm2.2.0/cime/src/components/stub_comps_mct/sglc/cime_config/buildnml\n",
      "  2023-12-29 21:02:56 wav \n",
      "   Calling /glade/work/klindsay/cesm2_tags/cesm2.2.0/cime/../components/ww3//cime_config/buildnml\n",
      "  2023-12-29 21:02:56 iac \n",
      "   Running /glade/work/klindsay/cesm2_tags/cesm2.2.0/cime/src/components/stub_comps_mct/siac/cime_config/buildnml \n",
      "  2023-12-29 21:02:56 esp \n",
      "   Calling /glade/work/klindsay/cesm2_tags/cesm2.2.0/cime/src/components/stub_comps_mct/sesp/cime_config/buildnml\n",
      "  2023-12-29 21:02:56 cpl \n",
      "   Calling /glade/work/klindsay/cesm2_tags/cesm2.2.0/cime/src/drivers/mct/cime_config/buildnml\n",
      "checkpoint 2\n",
      "Submitting command to PBS using account P93300612:\n",
      "    ./case.build\n",
      "\n",
      "Requested custom PBS options:\n",
      "    -A P93300612 \n",
      "\n",
      "Waiting for job 4486930.chadmin1.ib0.cheyenne.ucar.edu to start ... \n",
      "\n",
      "\n",
      "Building case in directory /glade/work/bachman/oae-dor-global-efficiency/cesm-cases/smyle-fosi.North_Pacific_basin.alk-forcing-North_Pacific_basin.006-5year\n",
      "sharedlib_only is False\n",
      "model_only is False\n",
      "Setting Environment OMP_STACKSIZE=1024M\n",
      "Setting Environment TMPDIR=/glade/scratch/bachman\n",
      "Setting Environment MPI_TYPE_DEPTH=16\n",
      "Setting Environment MPI_IB_CONGESTED=1\n",
      "Setting resource.RLIMIT_STACK to -1 from (-1, -1)\n",
      "Generating component namelists as part of build\n",
      "GET_REFCASE is false, the user is expected to stage the refcase to the run directory.\n",
      "Creating component namelists\n",
      "  2023-12-29 21:03:53 atm \n",
      "   Calling /glade/work/klindsay/cesm2_tags/cesm2.2.0/cime/src/components/data_comps_mct/datm/cime_config/buildnml\n",
      "  2023-12-29 21:03:54 lnd \n",
      "   Calling /glade/work/klindsay/cesm2_tags/cesm2.2.0/cime/src/components/stub_comps_mct/slnd/cime_config/buildnml\n",
      "  2023-12-29 21:03:54 ice \n",
      "   Calling /glade/work/klindsay/cesm2_tags/cesm2.2.0/cime/../components/cice//cime_config/buildnml\n",
      "     ...buildnml calling cice buildcpp to set build time options\n",
      "  2023-12-29 21:03:54 ocn \n",
      "   Calling /glade/work/klindsay/cesm2_tags/cesm2.2.0/cime/../components/pop//cime_config/buildnml\n",
      "     ... buildnml: calling pop buildcpp to set build time options\n",
      "  2023-12-29 21:03:56 rof \n",
      "   Calling /glade/work/klindsay/cesm2_tags/cesm2.2.0/cime/src/components/data_comps_mct/drof/cime_config/buildnml\n",
      "  2023-12-29 21:03:56 glc \n",
      "   Calling /glade/work/klindsay/cesm2_tags/cesm2.2.0/cime/src/components/stub_comps_mct/sglc/cime_config/buildnml\n",
      "  2023-12-29 21:03:56 wav \n",
      "   Calling /glade/work/klindsay/cesm2_tags/cesm2.2.0/cime/../components/ww3//cime_config/buildnml\n",
      "  2023-12-29 21:03:56 iac \n",
      "   Running /glade/work/klindsay/cesm2_tags/cesm2.2.0/cime/src/components/stub_comps_mct/siac/cime_config/buildnml \n",
      "  2023-12-29 21:03:56 esp \n",
      "   Calling /glade/work/klindsay/cesm2_tags/cesm2.2.0/cime/src/components/stub_comps_mct/sesp/cime_config/buildnml\n",
      "  2023-12-29 21:03:56 cpl \n",
      "   Calling /glade/work/klindsay/cesm2_tags/cesm2.2.0/cime/src/drivers/mct/cime_config/buildnml\n",
      "Building gptl with output to file /glade/scratch/bachman/smyle-fosi.North_Pacific_basin.alk-forcing-North_Pacific_basin.006-5year/bld/gptl.bldlog.231229-210352\n",
      "   Calling /glade/work/klindsay/cesm2_tags/cesm2.2.0/cime/src/build_scripts/buildlib.gptl\n",
      "Building mct with output to file /glade/scratch/bachman/smyle-fosi.North_Pacific_basin.alk-forcing-North_Pacific_basin.006-5year/bld/mct.bldlog.231229-210352\n",
      "   Calling /glade/work/klindsay/cesm2_tags/cesm2.2.0/cime/src/build_scripts/buildlib.mct\n",
      "Building pio with output to file /glade/scratch/bachman/smyle-fosi.North_Pacific_basin.alk-forcing-North_Pacific_basin.006-5year/bld/pio.bldlog.231229-210352\n",
      "   Calling /glade/work/klindsay/cesm2_tags/cesm2.2.0/cime/src/build_scripts/buildlib.pio\n",
      "Component pio build complete with 2 warnings\n",
      "Building csm_share with output to file /glade/scratch/bachman/smyle-fosi.North_Pacific_basin.alk-forcing-North_Pacific_basin.006-5year/bld/csm_share.bldlog.231229-210352\n",
      "   Calling /glade/work/klindsay/cesm2_tags/cesm2.2.0/cime/src/build_scripts/buildlib.csm_share\n",
      "Component csm_share build complete with 20 warnings\n",
      "         - Building atm Library \n",
      "Building atm with output to /glade/scratch/bachman/smyle-fosi.North_Pacific_basin.alk-forcing-North_Pacific_basin.006-5year/bld/atm.bldlog.231229-210352\n",
      "         - Building lnd Library \n",
      "Building lnd with output to /glade/scratch/bachman/smyle-fosi.North_Pacific_basin.alk-forcing-North_Pacific_basin.006-5year/bld/lnd.bldlog.231229-210352\n",
      "         - Building ice Library \n",
      "Building ice with output to /glade/scratch/bachman/smyle-fosi.North_Pacific_basin.alk-forcing-North_Pacific_basin.006-5year/bld/ice.bldlog.231229-210352\n",
      "         - Building ocn Library \n",
      "Building ocn with output to /glade/scratch/bachman/smyle-fosi.North_Pacific_basin.alk-forcing-North_Pacific_basin.006-5year/bld/ocn.bldlog.231229-210352\n",
      "         - Building rof Library \n",
      "Building rof with output to /glade/scratch/bachman/smyle-fosi.North_Pacific_basin.alk-forcing-North_Pacific_basin.006-5year/bld/rof.bldlog.231229-210352\n",
      "         - Building glc Library \n",
      "Building glc with output to /glade/scratch/bachman/smyle-fosi.North_Pacific_basin.alk-forcing-North_Pacific_basin.006-5year/bld/glc.bldlog.231229-210352\n",
      "         - Building wav Library \n",
      "Building wav with output to /glade/scratch/bachman/smyle-fosi.North_Pacific_basin.alk-forcing-North_Pacific_basin.006-5year/bld/wav.bldlog.231229-210352\n",
      "         - Building iac Library \n",
      "Building iac with output to /glade/scratch/bachman/smyle-fosi.North_Pacific_basin.alk-forcing-North_Pacific_basin.006-5year/bld/iac.bldlog.231229-210352\n",
      "         - Building esp Library \n",
      "Building esp with output to /glade/scratch/bachman/smyle-fosi.North_Pacific_basin.alk-forcing-North_Pacific_basin.006-5year/bld/esp.bldlog.231229-210352\n",
      "sesp built in 2.207510 seconds\n",
      "sglc built in 2.220291 seconds\n",
      "siac built in 2.232770 seconds\n",
      "slnd built in 2.374085 seconds\n",
      "drof built in 5.114336 seconds\n",
      "datm built in 7.465060 seconds\n",
      "ww built in 33.967594 seconds\n",
      "Component ice build complete with 1 warnings\n",
      "cice built in 78.029397 seconds\n",
      "Component ocn build complete with 13 warnings\n",
      "pop built in 420.410084 seconds\n",
      "Building cesm from /glade/work/klindsay/cesm2_tags/cesm2.2.0/cime/src/drivers/mct/cime_config/buildexe with output to /glade/scratch/bachman/smyle-fosi.North_Pacific_basin.alk-forcing-North_Pacific_basin.006-5year/bld/cesm.bldlog.231229-210352 \n",
      "Time spent not building: 4.923685 sec\n",
      "Time spent building: 744.220829 sec\n",
      "MODEL BUILD HAS FINISHED SUCCESSFULLY\n"
     ]
    },
    {
     "name": "stderr",
     "output_type": "stream",
     "text": [
      "\n",
      "env_batch.xml appears to have changed, regenerating batch scripts\n",
      "manual edits to these file will be lost!\n",
      "\n"
     ]
    },
    {
     "name": "stdout",
     "output_type": "stream",
     "text": [
      "Creating batch scripts\n",
      "Writing case.run script from input template /glade/work/klindsay/cesm2_tags/cesm2.2.0/cime/config/cesm/machines/template.case.run\n",
      "Creating file .case.run\n",
      "Writing case.st_archive script from input template /glade/work/klindsay/cesm2_tags/cesm2.2.0/cime/config/cesm/machines/template.st_archive\n",
      "Creating file case.st_archive\n",
      "Setting Environment OMP_STACKSIZE=1024M\n",
      "Setting Environment TMPDIR=/glade/scratch/bachman\n",
      "Setting Environment MPI_TYPE_DEPTH=16\n",
      "Setting Environment MPI_IB_CONGESTED=1\n",
      "Setting resource.RLIMIT_STACK to -1 from (307200000, -1)\n",
      "GET_REFCASE is false, the user is expected to stage the refcase to the run directory.\n",
      "Creating component namelists\n",
      "  2023-12-29 21:16:37 atm \n",
      "   Calling /glade/work/klindsay/cesm2_tags/cesm2.2.0/cime/src/components/data_comps_mct/datm/cime_config/buildnml\n",
      "  2023-12-29 21:16:37 lnd \n",
      "   Calling /glade/work/klindsay/cesm2_tags/cesm2.2.0/cime/src/components/stub_comps_mct/slnd/cime_config/buildnml\n",
      "  2023-12-29 21:16:37 ice \n",
      "   Calling /glade/work/klindsay/cesm2_tags/cesm2.2.0/cime/../components/cice//cime_config/buildnml\n",
      "  2023-12-29 21:16:38 ocn \n",
      "   Calling /glade/work/klindsay/cesm2_tags/cesm2.2.0/cime/../components/pop//cime_config/buildnml\n",
      "  2023-12-29 21:16:39 rof \n",
      "   Calling /glade/work/klindsay/cesm2_tags/cesm2.2.0/cime/src/components/data_comps_mct/drof/cime_config/buildnml\n",
      "  2023-12-29 21:16:39 glc \n",
      "   Calling /glade/work/klindsay/cesm2_tags/cesm2.2.0/cime/src/components/stub_comps_mct/sglc/cime_config/buildnml\n",
      "  2023-12-29 21:16:39 wav \n",
      "   Calling /glade/work/klindsay/cesm2_tags/cesm2.2.0/cime/../components/ww3//cime_config/buildnml\n",
      "  2023-12-29 21:16:39 iac \n",
      "   Running /glade/work/klindsay/cesm2_tags/cesm2.2.0/cime/src/components/stub_comps_mct/siac/cime_config/buildnml \n",
      "  2023-12-29 21:16:39 esp \n",
      "   Calling /glade/work/klindsay/cesm2_tags/cesm2.2.0/cime/src/components/stub_comps_mct/sesp/cime_config/buildnml\n",
      "  2023-12-29 21:16:39 cpl \n",
      "   Calling /glade/work/klindsay/cesm2_tags/cesm2.2.0/cime/src/drivers/mct/cime_config/buildnml\n",
      "Checking that inputdata is available as part of case submission\n",
      "Setting Environment OMP_STACKSIZE=1024M\n",
      "Setting Environment TMPDIR=/glade/scratch/bachman\n",
      "Setting Environment MPI_TYPE_DEPTH=16\n",
      "Setting Environment MPI_IB_CONGESTED=1\n",
      "Setting resource.RLIMIT_STACK to -1 from (-1, -1)\n",
      "Loading input file list: 'Buildconf/cpl.input_data_list'\n",
      "Loading input file list: 'Buildconf/pop.input_data_list'\n",
      "Loading input file list: 'Buildconf/ww3.input_data_list'\n",
      "Loading input file list: 'Buildconf/datm.input_data_list'\n",
      "Loading input file list: 'Buildconf/drof.input_data_list'\n",
      "Loading input file list: 'Buildconf/cice.input_data_list'\n",
      "GET_REFCASE is false, the user is expected to stage the refcase to the run directory.\n",
      "GET_REFCASE is false, the user is expected to stage the refcase to the run directory.\n",
      "Creating component namelists\n",
      "  2023-12-29 21:16:41 atm \n",
      "  2023-12-29 21:16:41 lnd \n",
      "  2023-12-29 21:16:41 ice \n",
      "  2023-12-29 21:16:41 ocn \n",
      "  2023-12-29 21:16:41 rof \n",
      "  2023-12-29 21:16:41 glc \n",
      "  2023-12-29 21:16:41 wav \n",
      "  2023-12-29 21:16:41 iac \n",
      "  2023-12-29 21:16:41 esp \n",
      "  2023-12-29 21:16:41 cpl \n",
      "Check case OK\n",
      "Submitting job script qsub -q regular -l walltime=12:00:00 -A P93300612 -v ARGS_FOR_SCRIPT='--resubmit' .case.run\n"
     ]
    },
    {
     "name": "stderr",
     "output_type": "stream",
     "text": [
      "submit_jobs case.run\n",
      "Submit job case.run\n",
      "Submit job case.st_archive\n"
     ]
    },
    {
     "name": "stdout",
     "output_type": "stream",
     "text": [
      "Submitted job id is 4486967.chadmin1.ib0.cheyenne.ucar.edu\n",
      "Submitting job script qsub -q regular -l walltime=12:00:00 -A P93300612  -W depend=afterok:4486967.chadmin1.ib0.cheyenne.ucar.edu -v ARGS_FOR_SCRIPT='--resubmit' case.st_archive\n",
      "Submitted job id is 4486968.chadmin1.ib0.cheyenne.ucar.edu\n",
      "Submitted job case.run with id 4486967.chadmin1.ib0.cheyenne.ucar.edu\n",
      "Submitted job case.st_archive with id 4486968.chadmin1.ib0.cheyenne.ucar.edu\n",
      " Successfully created new case smyle-fosi.North_Pacific_basin.alk-forcing-North_Pacific_basin.022-5year from clone case g.e22.GOMIPECOIAF_JRA-1p4-2018.TL319_g17.SMYLE.005 \n",
      "Setting Environment OMP_STACKSIZE=1024M\n",
      "Setting Environment TMPDIR=/glade/scratch/bachman\n",
      "Setting Environment MPI_TYPE_DEPTH=16\n",
      "Setting Environment MPI_IB_CONGESTED=1\n",
      "Setting resource.RLIMIT_STACK to -1 from (307200000, -1)\n"
     ]
    },
    {
     "name": "stderr",
     "output_type": "stream",
     "text": [
      "/glade/work/bachman/oae-dor-global-efficiency/cesm-cases/smyle-fosi.North_Pacific_basin.alk-forcing-North_Pacific_basin.022-5year/env_mach_specific.xml already exists, delete to replace\n",
      "/glade/work/bachman/oae-dor-global-efficiency/cesm-cases/smyle-fosi.North_Pacific_basin.alk-forcing-North_Pacific_basin.022-5year/env_mach_specific.xml already exists, delete to replace\n"
     ]
    },
    {
     "name": "stdout",
     "output_type": "stream",
     "text": [
      "job is case.run USER_REQUESTED_WALLTIME None USER_REQUESTED_QUEUE regular WALLTIME_FORMAT %H:%M:%S\n",
      "Creating batch scripts\n",
      "Writing case.run script from input template /glade/work/klindsay/cesm2_tags/cesm2.2.0/cime/config/cesm/machines/template.case.run\n",
      "Creating file .case.run\n",
      "Writing case.st_archive script from input template /glade/work/klindsay/cesm2_tags/cesm2.2.0/cime/config/cesm/machines/template.st_archive\n",
      "Creating file case.st_archive\n",
      "If an old case build already exists, might want to run 'case.build --clean' before building\n",
      "You can now run './preview_run' to get more info on how your case will be run\n"
     ]
    },
    {
     "name": "stderr",
     "output_type": "stream",
     "text": [
      "INFO: Running consistency check for /glade/u/home/eyankovsky/CWorthy/SourceMods-OAE/src.pop.curtail-output/diagnostics_latest.yaml\n",
      "INFO: Writing /glade/work/bachman/oae-dor-global-efficiency/cesm-cases/smyle-fosi.North_Pacific_basin.alk-forcing-North_Pacific_basin.022-5year/SourceMods/src.pop/diagnostics_latest.json\n"
     ]
    },
    {
     "name": "stdout",
     "output_type": "stream",
     "text": [
      "Setting Environment OMP_STACKSIZE=1024M\n",
      "Setting Environment TMPDIR=/glade/scratch/bachman\n",
      "Setting Environment MPI_TYPE_DEPTH=16\n",
      "Setting Environment MPI_IB_CONGESTED=1\n",
      "Setting resource.RLIMIT_STACK to -1 from (307200000, -1)\n",
      "Machine/Decomp/Pes configuration has already been done ...skipping\n",
      "If an old case build already exists, might want to run 'case.build --clean' before building\n",
      "You can now run './preview_run' to get more info on how your case will be run\n",
      "checkpoint 1\n",
      "/glade/work/bachman/oae-dor-global-efficiency/cesm-cases/smyle-fosi.North_Pacific_basin.alk-forcing-North_Pacific_basin.022-5year\n",
      "Setting Environment OMP_STACKSIZE=1024M\n",
      "Setting Environment TMPDIR=/glade/scratch/bachman\n",
      "Setting Environment MPI_TYPE_DEPTH=16\n",
      "Setting Environment MPI_IB_CONGESTED=1\n",
      "Setting resource.RLIMIT_STACK to -1 from (307200000, -1)\n",
      "GET_REFCASE is false, the user is expected to stage the refcase to the run directory.\n",
      "Creating component namelists\n",
      "  2023-12-29 21:17:18 atm \n",
      "   Calling /glade/work/klindsay/cesm2_tags/cesm2.2.0/cime/src/components/data_comps_mct/datm/cime_config/buildnml\n",
      "  2023-12-29 21:17:19 lnd \n",
      "   Calling /glade/work/klindsay/cesm2_tags/cesm2.2.0/cime/src/components/stub_comps_mct/slnd/cime_config/buildnml\n",
      "  2023-12-29 21:17:19 ice \n",
      "   Calling /glade/work/klindsay/cesm2_tags/cesm2.2.0/cime/../components/cice//cime_config/buildnml\n",
      "     ...buildnml calling cice buildcpp to set build time options\n",
      "  2023-12-29 21:17:19 ocn \n",
      "   Calling /glade/work/klindsay/cesm2_tags/cesm2.2.0/cime/../components/pop//cime_config/buildnml\n",
      "     ... buildnml: calling pop buildcpp to set build time options\n",
      "  2023-12-29 21:17:21 rof \n",
      "   Calling /glade/work/klindsay/cesm2_tags/cesm2.2.0/cime/src/components/data_comps_mct/drof/cime_config/buildnml\n",
      "  2023-12-29 21:17:21 glc \n",
      "   Calling /glade/work/klindsay/cesm2_tags/cesm2.2.0/cime/src/components/stub_comps_mct/sglc/cime_config/buildnml\n",
      "  2023-12-29 21:17:21 wav \n",
      "   Calling /glade/work/klindsay/cesm2_tags/cesm2.2.0/cime/../components/ww3//cime_config/buildnml\n",
      "  2023-12-29 21:17:21 iac \n",
      "   Running /glade/work/klindsay/cesm2_tags/cesm2.2.0/cime/src/components/stub_comps_mct/siac/cime_config/buildnml \n",
      "  2023-12-29 21:17:21 esp \n",
      "   Calling /glade/work/klindsay/cesm2_tags/cesm2.2.0/cime/src/components/stub_comps_mct/sesp/cime_config/buildnml\n",
      "  2023-12-29 21:17:21 cpl \n",
      "   Calling /glade/work/klindsay/cesm2_tags/cesm2.2.0/cime/src/drivers/mct/cime_config/buildnml\n",
      "checkpoint 2\n",
      "Submitting command to PBS using account P93300612:\n",
      "    ./case.build\n",
      "\n",
      "Requested custom PBS options:\n",
      "    -A P93300612 \n",
      "\n",
      "Waiting for job 4486975.chadmin1.ib0.cheyenne.ucar.edu to start ... \n",
      "\n",
      "\n",
      "Building case in directory /glade/work/bachman/oae-dor-global-efficiency/cesm-cases/smyle-fosi.North_Pacific_basin.alk-forcing-North_Pacific_basin.022-5year\n",
      "sharedlib_only is False\n",
      "model_only is False\n",
      "Setting Environment OMP_STACKSIZE=1024M\n",
      "Setting Environment TMPDIR=/glade/scratch/bachman\n",
      "Setting Environment MPI_TYPE_DEPTH=16\n",
      "Setting Environment MPI_IB_CONGESTED=1\n",
      "Setting resource.RLIMIT_STACK to -1 from (-1, -1)\n",
      "Generating component namelists as part of build\n",
      "GET_REFCASE is false, the user is expected to stage the refcase to the run directory.\n",
      "Creating component namelists\n",
      "  2023-12-29 21:18:14 atm \n",
      "   Calling /glade/work/klindsay/cesm2_tags/cesm2.2.0/cime/src/components/data_comps_mct/datm/cime_config/buildnml\n",
      "  2023-12-29 21:18:15 lnd \n",
      "   Calling /glade/work/klindsay/cesm2_tags/cesm2.2.0/cime/src/components/stub_comps_mct/slnd/cime_config/buildnml\n",
      "  2023-12-29 21:18:15 ice \n",
      "   Calling /glade/work/klindsay/cesm2_tags/cesm2.2.0/cime/../components/cice//cime_config/buildnml\n",
      "     ...buildnml calling cice buildcpp to set build time options\n",
      "  2023-12-29 21:18:16 ocn \n",
      "   Calling /glade/work/klindsay/cesm2_tags/cesm2.2.0/cime/../components/pop//cime_config/buildnml\n",
      "     ... buildnml: calling pop buildcpp to set build time options\n",
      "  2023-12-29 21:18:18 rof \n",
      "   Calling /glade/work/klindsay/cesm2_tags/cesm2.2.0/cime/src/components/data_comps_mct/drof/cime_config/buildnml\n",
      "  2023-12-29 21:18:18 glc \n",
      "   Calling /glade/work/klindsay/cesm2_tags/cesm2.2.0/cime/src/components/stub_comps_mct/sglc/cime_config/buildnml\n",
      "  2023-12-29 21:18:18 wav \n",
      "   Calling /glade/work/klindsay/cesm2_tags/cesm2.2.0/cime/../components/ww3//cime_config/buildnml\n",
      "  2023-12-29 21:18:18 iac \n",
      "   Running /glade/work/klindsay/cesm2_tags/cesm2.2.0/cime/src/components/stub_comps_mct/siac/cime_config/buildnml \n",
      "  2023-12-29 21:18:18 esp \n",
      "   Calling /glade/work/klindsay/cesm2_tags/cesm2.2.0/cime/src/components/stub_comps_mct/sesp/cime_config/buildnml\n",
      "  2023-12-29 21:18:18 cpl \n",
      "   Calling /glade/work/klindsay/cesm2_tags/cesm2.2.0/cime/src/drivers/mct/cime_config/buildnml\n",
      "Building gptl with output to file /glade/scratch/bachman/smyle-fosi.North_Pacific_basin.alk-forcing-North_Pacific_basin.022-5year/bld/gptl.bldlog.231229-211813\n",
      "   Calling /glade/work/klindsay/cesm2_tags/cesm2.2.0/cime/src/build_scripts/buildlib.gptl\n",
      "Building mct with output to file /glade/scratch/bachman/smyle-fosi.North_Pacific_basin.alk-forcing-North_Pacific_basin.022-5year/bld/mct.bldlog.231229-211813\n",
      "   Calling /glade/work/klindsay/cesm2_tags/cesm2.2.0/cime/src/build_scripts/buildlib.mct\n",
      "Building pio with output to file /glade/scratch/bachman/smyle-fosi.North_Pacific_basin.alk-forcing-North_Pacific_basin.022-5year/bld/pio.bldlog.231229-211813\n",
      "   Calling /glade/work/klindsay/cesm2_tags/cesm2.2.0/cime/src/build_scripts/buildlib.pio\n",
      "Component pio build complete with 2 warnings\n",
      "Building csm_share with output to file /glade/scratch/bachman/smyle-fosi.North_Pacific_basin.alk-forcing-North_Pacific_basin.022-5year/bld/csm_share.bldlog.231229-211813\n",
      "   Calling /glade/work/klindsay/cesm2_tags/cesm2.2.0/cime/src/build_scripts/buildlib.csm_share\n",
      "Component csm_share build complete with 20 warnings\n",
      "         - Building atm Library \n",
      "Building atm with output to /glade/scratch/bachman/smyle-fosi.North_Pacific_basin.alk-forcing-North_Pacific_basin.022-5year/bld/atm.bldlog.231229-211813\n",
      "         - Building lnd Library \n",
      "Building lnd with output to /glade/scratch/bachman/smyle-fosi.North_Pacific_basin.alk-forcing-North_Pacific_basin.022-5year/bld/lnd.bldlog.231229-211813\n",
      "         - Building ice Library \n",
      "Building ice with output to /glade/scratch/bachman/smyle-fosi.North_Pacific_basin.alk-forcing-North_Pacific_basin.022-5year/bld/ice.bldlog.231229-211813\n",
      "         - Building ocn Library \n",
      "Building ocn with output to /glade/scratch/bachman/smyle-fosi.North_Pacific_basin.alk-forcing-North_Pacific_basin.022-5year/bld/ocn.bldlog.231229-211813\n",
      "         - Building rof Library \n",
      "Building rof with output to /glade/scratch/bachman/smyle-fosi.North_Pacific_basin.alk-forcing-North_Pacific_basin.022-5year/bld/rof.bldlog.231229-211813\n",
      "         - Building glc Library \n",
      "Building glc with output to /glade/scratch/bachman/smyle-fosi.North_Pacific_basin.alk-forcing-North_Pacific_basin.022-5year/bld/glc.bldlog.231229-211813\n",
      "         - Building wav Library \n",
      "Building wav with output to /glade/scratch/bachman/smyle-fosi.North_Pacific_basin.alk-forcing-North_Pacific_basin.022-5year/bld/wav.bldlog.231229-211813\n",
      "         - Building iac Library \n",
      "Building iac with output to /glade/scratch/bachman/smyle-fosi.North_Pacific_basin.alk-forcing-North_Pacific_basin.022-5year/bld/iac.bldlog.231229-211813\n",
      "         - Building esp Library \n",
      "Building esp with output to /glade/scratch/bachman/smyle-fosi.North_Pacific_basin.alk-forcing-North_Pacific_basin.022-5year/bld/esp.bldlog.231229-211813\n",
      "slnd built in 1.823785 seconds\n",
      "siac built in 1.869406 seconds\n",
      "sglc built in 1.971349 seconds\n",
      "sesp built in 2.042484 seconds\n",
      "drof built in 3.682263 seconds\n",
      "datm built in 6.112584 seconds\n",
      "ww built in 34.740556 seconds\n",
      "Component ice build complete with 1 warnings\n",
      "cice built in 77.552395 seconds\n",
      "Component ocn build complete with 13 warnings\n",
      "pop built in 420.165456 seconds\n",
      "Building cesm from /glade/work/klindsay/cesm2_tags/cesm2.2.0/cime/src/drivers/mct/cime_config/buildexe with output to /glade/scratch/bachman/smyle-fosi.North_Pacific_basin.alk-forcing-North_Pacific_basin.022-5year/bld/cesm.bldlog.231229-211813 \n",
      "Time spent not building: 5.868920 sec\n",
      "Time spent building: 692.944668 sec\n",
      "MODEL BUILD HAS FINISHED SUCCESSFULLY\n"
     ]
    },
    {
     "name": "stderr",
     "output_type": "stream",
     "text": [
      "\n",
      "env_batch.xml appears to have changed, regenerating batch scripts\n",
      "manual edits to these file will be lost!\n",
      "\n"
     ]
    },
    {
     "name": "stdout",
     "output_type": "stream",
     "text": [
      "Creating batch scripts\n",
      "Writing case.run script from input template /glade/work/klindsay/cesm2_tags/cesm2.2.0/cime/config/cesm/machines/template.case.run\n",
      "Creating file .case.run\n",
      "Writing case.st_archive script from input template /glade/work/klindsay/cesm2_tags/cesm2.2.0/cime/config/cesm/machines/template.st_archive\n",
      "Creating file case.st_archive\n",
      "Setting Environment OMP_STACKSIZE=1024M\n",
      "Setting Environment TMPDIR=/glade/scratch/bachman\n",
      "Setting Environment MPI_TYPE_DEPTH=16\n",
      "Setting Environment MPI_IB_CONGESTED=1\n",
      "Setting resource.RLIMIT_STACK to -1 from (307200000, -1)\n",
      "GET_REFCASE is false, the user is expected to stage the refcase to the run directory.\n",
      "Creating component namelists\n",
      "  2023-12-29 21:30:08 atm \n",
      "   Calling /glade/work/klindsay/cesm2_tags/cesm2.2.0/cime/src/components/data_comps_mct/datm/cime_config/buildnml\n",
      "  2023-12-29 21:30:08 lnd \n",
      "   Calling /glade/work/klindsay/cesm2_tags/cesm2.2.0/cime/src/components/stub_comps_mct/slnd/cime_config/buildnml\n",
      "  2023-12-29 21:30:08 ice \n",
      "   Calling /glade/work/klindsay/cesm2_tags/cesm2.2.0/cime/../components/cice//cime_config/buildnml\n",
      "  2023-12-29 21:30:09 ocn \n",
      "   Calling /glade/work/klindsay/cesm2_tags/cesm2.2.0/cime/../components/pop//cime_config/buildnml\n",
      "  2023-12-29 21:30:10 rof \n",
      "   Calling /glade/work/klindsay/cesm2_tags/cesm2.2.0/cime/src/components/data_comps_mct/drof/cime_config/buildnml\n",
      "  2023-12-29 21:30:10 glc \n",
      "   Calling /glade/work/klindsay/cesm2_tags/cesm2.2.0/cime/src/components/stub_comps_mct/sglc/cime_config/buildnml\n",
      "  2023-12-29 21:30:10 wav \n",
      "   Calling /glade/work/klindsay/cesm2_tags/cesm2.2.0/cime/../components/ww3//cime_config/buildnml\n",
      "  2023-12-29 21:30:10 iac \n",
      "   Running /glade/work/klindsay/cesm2_tags/cesm2.2.0/cime/src/components/stub_comps_mct/siac/cime_config/buildnml \n",
      "  2023-12-29 21:30:10 esp \n",
      "   Calling /glade/work/klindsay/cesm2_tags/cesm2.2.0/cime/src/components/stub_comps_mct/sesp/cime_config/buildnml\n",
      "  2023-12-29 21:30:10 cpl \n",
      "   Calling /glade/work/klindsay/cesm2_tags/cesm2.2.0/cime/src/drivers/mct/cime_config/buildnml\n",
      "Checking that inputdata is available as part of case submission\n",
      "Setting Environment OMP_STACKSIZE=1024M\n",
      "Setting Environment TMPDIR=/glade/scratch/bachman\n",
      "Setting Environment MPI_TYPE_DEPTH=16\n",
      "Setting Environment MPI_IB_CONGESTED=1\n",
      "Setting resource.RLIMIT_STACK to -1 from (-1, -1)\n",
      "Loading input file list: 'Buildconf/cpl.input_data_list'\n",
      "Loading input file list: 'Buildconf/pop.input_data_list'\n",
      "Loading input file list: 'Buildconf/ww3.input_data_list'\n",
      "Loading input file list: 'Buildconf/datm.input_data_list'\n",
      "Loading input file list: 'Buildconf/drof.input_data_list'\n",
      "Loading input file list: 'Buildconf/cice.input_data_list'\n",
      "GET_REFCASE is false, the user is expected to stage the refcase to the run directory.\n",
      "GET_REFCASE is false, the user is expected to stage the refcase to the run directory.\n",
      "Creating component namelists\n",
      "  2023-12-29 21:30:12 atm \n",
      "  2023-12-29 21:30:12 lnd \n",
      "  2023-12-29 21:30:12 ice \n",
      "  2023-12-29 21:30:12 ocn \n",
      "  2023-12-29 21:30:12 rof \n",
      "  2023-12-29 21:30:12 glc \n",
      "  2023-12-29 21:30:12 wav \n",
      "  2023-12-29 21:30:12 iac \n",
      "  2023-12-29 21:30:12 esp \n",
      "  2023-12-29 21:30:12 cpl \n",
      "Check case OK\n",
      "Submitting job script qsub -q regular -l walltime=12:00:00 -A P93300612 -v ARGS_FOR_SCRIPT='--resubmit' .case.run\n"
     ]
    },
    {
     "name": "stderr",
     "output_type": "stream",
     "text": [
      "submit_jobs case.run\n",
      "Submit job case.run\n"
     ]
    },
    {
     "name": "stdout",
     "output_type": "stream",
     "text": [
      "Submitted job id is 4486990.chadmin1.ib0.cheyenne.ucar.edu\n",
      "Submitting job script qsub -q regular -l walltime=12:00:00 -A P93300612  -W depend=afterok:4486990.chadmin1.ib0.cheyenne.ucar.edu -v ARGS_FOR_SCRIPT='--resubmit' case.st_archive\n"
     ]
    },
    {
     "name": "stderr",
     "output_type": "stream",
     "text": [
      "Submit job case.st_archive\n"
     ]
    },
    {
     "name": "stdout",
     "output_type": "stream",
     "text": [
      "Submitted job id is 4486991.chadmin1.ib0.cheyenne.ucar.edu\n",
      "Submitted job case.run with id 4486990.chadmin1.ib0.cheyenne.ucar.edu\n",
      "Submitted job case.st_archive with id 4486991.chadmin1.ib0.cheyenne.ucar.edu\n",
      "done\n"
     ]
    }
   ],
   "source": [
    "clobber = True\n",
    "\n",
    "run_settings = dict(\n",
    "    stop_n=10,                #10 years\n",
    "    stop_option=\"nyear\",\n",
    "    job_queue=\"regular\",\n",
    "    wallclock=\"12:00:00\",\n",
    "    resubmit=1,              #2 would give 30 years of output\n",
    ")\n",
    "\n",
    "#run_only_index_list = [0, 16, 36, 63] # use this list to run only select indexes \n",
    "#run_only_index_list = [105, 155] # use this list to run only select indexes \n",
    "#run_only_index_list = [6, 22] # use this list to run only select indexes \n",
    "\n",
    "for n, f in enumerate(forcing_files):\n",
    "\n",
    "    #if n not in run_only_index_list:\n",
    "    #    continue\n",
    "\n",
    "    alk_forcing = os.path.basename(f).replace('.nc', '')\n",
    "\n",
    "    case = f\"smyle-fosi.{alk_forcing_spec}.{alk_forcing}\"\n",
    "    oae_smyle.create_clone(\n",
    "        case, \n",
    "        alk_forcing_file=f, \n",
    "        submit=True, \n",
    "        clobber=clobber, \n",
    "        curtail_output=True,\n",
    "        **run_settings\n",
    "    )\n",
    "print('done')"
   ]
  },
  {
   "cell_type": "code",
   "execution_count": 16,
   "id": "9f71fec6-6719-4812-aad6-d795b93da0c9",
   "metadata": {},
   "outputs": [],
   "source": [
    "#FG_CO2"
   ]
  },
  {
   "cell_type": "code",
   "execution_count": 17,
   "id": "f38d43e4-aaa5-42ee-86e4-065867d850aa",
   "metadata": {},
   "outputs": [
    {
     "name": "stdout",
     "output_type": "stream",
     "text": [
      "done\n"
     ]
    }
   ],
   "source": [
    "print('done')"
   ]
  },
  {
   "cell_type": "code",
   "execution_count": 101,
   "id": "889c6dbe-fc6d-4288-87e7-2c4bfe990549",
   "metadata": {},
   "outputs": [],
   "source": [
    "######## run cesm\n",
    "# clobber = True\n",
    "\n",
    "# # use this list to run only select indexes \n",
    "# run_only_index_list = [forcing_id]  \n",
    "\n",
    "# for n, f in enumerate(forcing_files):\n",
    "\n",
    "#     if n not in run_only_index_list:\n",
    "#         continue\n",
    "#     print(n,f)\n",
    "\n",
    "#     # string of the month: '01'\n",
    "#     month_str = f[-5:-3]\n",
    "\n",
    "#     run_settings = dict(\n",
    "#         refdate=\"0347-\" + month_str + \"-01\",  # change this\n",
    "#         #refdate=\"0347-01-01\",  # change this\n",
    "#         stop_n=2,\n",
    "#         stop_option=\"nyear\",\n",
    "#         job_queue=\"economy\",\n",
    "#         #job_queue=\"regular\",\n",
    "#         wallclock=\"01:00:00\",\n",
    "#         #wallclock=\"01:00:00\",\n",
    "#         resubmit=0, \n",
    "#     )\n",
    "\n",
    "#     alk_forcing = os.path.basename(f).replace('.nc', '')\n",
    "#     case = f\"smyle-fosi.{alk_forcing_spec}.{alk_forcing}.test\"\n",
    "\n",
    "#     oae_smyle.create_clone(\n",
    "#         case, \n",
    "#         alk_forcing_file=f, \n",
    "#         submit=False, \n",
    "#         clobber=clobber, \n",
    "#         curtail_output=True,\n",
    "#         **run_settings\n",
    "#     ) "
   ]
  },
  {
   "cell_type": "code",
   "execution_count": null,
   "id": "cf76c1c9-b791-4691-881f-e664ae5241fe",
   "metadata": {},
   "outputs": [],
   "source": []
  },
  {
   "cell_type": "code",
   "execution_count": null,
   "id": "0f18cbd5-5d12-4842-b217-fb4016b5caf5",
   "metadata": {},
   "outputs": [],
   "source": []
  }
 ],
 "metadata": {
  "kernelspec": {
   "display_name": "Python [conda env:mcdr]",
   "language": "python",
   "name": "conda-env-mcdr-py"
  },
  "language_info": {
   "codemirror_mode": {
    "name": "ipython",
    "version": 3
   },
   "file_extension": ".py",
   "mimetype": "text/x-python",
   "name": "python",
   "nbconvert_exporter": "python",
   "pygments_lexer": "ipython3",
   "version": "3.7.12"
  }
 },
 "nbformat": 4,
 "nbformat_minor": 5
}
